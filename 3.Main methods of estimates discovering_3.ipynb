{
 "cells": [
  {
   "cell_type": "code",
   "execution_count": 152,
   "metadata": {
    "collapsed": true
   },
   "outputs": [],
   "source": [
    "import pandas as pd\n",
    "import numpy as np\n",
    "import matplotlib.pyplot as plt\n",
    "import scipy\n",
    "import scipy.stats as sts\n",
    "import math\n",
    "import statsmodels\n",
    "from statsmodels.distributions.empirical_distribution import ECDF\n",
    "%matplotlib inline"
   ]
  },
  {
   "cell_type": "code",
   "execution_count": 153,
   "metadata": {
    "collapsed": true
   },
   "outputs": [],
   "source": [
    "with open ('Weibull.csv', 'r') as file_obj: #читаем данные из файла\n",
    "    data = file_obj.readlines()"
   ]
  },
  {
   "cell_type": "code",
   "execution_count": 154,
   "metadata": {
    "collapsed": true
   },
   "outputs": [],
   "source": [
    "N = 3652\n",
    "X = np.empty((N))\n",
    "for i in range(1, N + 1):\n",
    "    X[i - 1] = float(data[i - 1]) #превращаем текстовые данные из файлика "
   ]
  },
  {
   "cell_type": "code",
   "execution_count": 157,
   "metadata": {
    "collapsed": false
   },
   "outputs": [
    {
     "name": "stderr",
     "output_type": "stream",
     "text": [
      "/home/nikita/anaconda2/lib/python2.7/site-packages/ipykernel/__main__.py:8: RuntimeWarning: overflow encountered in double_scalars\n"
     ]
    },
    {
     "name": "stdout",
     "output_type": "stream",
     "text": [
      "-11960.9718106\n"
     ]
    }
   ],
   "source": [
    "log_gamma = np.arange(-2, 2.001, 0.001) #выбор гаммы из логарифмической шкалы\n",
    "gamma = 10**log_gamma #перевод гаммы из логарифмической шкалы в обыкновенную\n",
    "f = np.empty((4000))\n",
    "for a in range(1, 4001):\n",
    "    for i in range(1, N + 1):\n",
    "        if (X[i - 1] == 0): #предотвращаем обнуление функции правдоподобия\n",
    "            X[i - 1] = 0.0001\n",
    "        f[a - 1] += -1. * X[i - 1]**gamma[a - 1] + math.log(gamma[a - 1]) + (gamma[a - 1] - 1) * math.log(X[i - 1])#оцениваем параметр\n",
    "maxf = max(f)\n",
    "print maxf #максимальное значение функции правдоподобия"
   ]
  },
  {
   "cell_type": "code",
   "execution_count": 158,
   "metadata": {
    "collapsed": false
   },
   "outputs": [
    {
     "name": "stdout",
     "output_type": "stream",
     "text": [
      "Номер \"лучшего\" параметра по всей выборке:  0.0688652296344\n"
     ]
    }
   ],
   "source": [
    "for i in range(1, 4001):\n",
    "    if (f[i - 1] == maxf):\n",
    "        print (u'Номер \"лучшего\" параметра по всей выборке: '), gamma[i - 1]"
   ]
  },
  {
   "cell_type": "code",
   "execution_count": 161,
   "metadata": {
    "collapsed": false
   },
   "outputs": [
    {
     "name": "stderr",
     "output_type": "stream",
     "text": [
      "/home/nikita/anaconda2/lib/python2.7/site-packages/ipykernel/__main__.py:9: RuntimeWarning: overflow encountered in double_scalars\n"
     ]
    },
    {
     "name": "stdout",
     "output_type": "stream",
     "text": [
      "-17036.6129302\n"
     ]
    }
   ],
   "source": [
    "N = 1461 #кол-во дней, соответствующее четырем годам\n",
    "log_gamma = np.arange(-2, 2.001, 0.001) #выбор гаммы из логарифмической шкалы\n",
    "gamma = 10**log_gamma #перевод гаммы из логарифмической шкалы в обыкновенную\n",
    "f = np.empty((4000))\n",
    "for a in range(1, 4001):\n",
    "    for i in range(1, N + 1):\n",
    "        if (X[i - 1] == 0): #предотвращаем обнуление функции правдоподобия\n",
    "            X[i - 1] = 0.0001\n",
    "        f[a - 1] += -1. * X[i - 1]**gamma[a - 1] + math.log(gamma[a - 1]) + (gamma[a - 1] - 1) * math.log(X[i - 1])#оцениваем параметр\n",
    "maxf = max(f)\n",
    "print maxf #максимальное значение функции правдоподобия"
   ]
  },
  {
   "cell_type": "code",
   "execution_count": 162,
   "metadata": {
    "collapsed": false
   },
   "outputs": [
    {
     "name": "stdout",
     "output_type": "stream",
     "text": [
      "Номер \"лучшего\" параметра по первым четырем годам:  0.0685488226453\n"
     ]
    }
   ],
   "source": [
    "for i in range(1, 4001):\n",
    "    if (f[i - 1] == maxf):\n",
    "        print (u'Номер \"лучшего\" параметра по первым четырем годам: '), gamma[i - 1]"
   ]
  }
 ],
 "metadata": {
  "kernelspec": {
   "display_name": "Python 2",
   "language": "python",
   "name": "python2"
  },
  "language_info": {
   "codemirror_mode": {
    "name": "ipython",
    "version": 2
   },
   "file_extension": ".py",
   "mimetype": "text/x-python",
   "name": "python",
   "nbconvert_exporter": "python",
   "pygments_lexer": "ipython2",
   "version": "2.7.13"
  }
 },
 "nbformat": 4,
 "nbformat_minor": 2
}
