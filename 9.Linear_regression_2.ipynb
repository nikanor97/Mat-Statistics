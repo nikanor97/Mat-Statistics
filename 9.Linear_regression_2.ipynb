{
 "cells": [
  {
   "cell_type": "code",
   "execution_count": 57,
   "metadata": {
    "collapsed": true
   },
   "outputs": [],
   "source": [
    "import matplotlib.pyplot as plt\n",
    "import numpy as np\n",
    "import scipy.stats as sst\n",
    "%matplotlib inline\n",
    "\n",
    "f = open('Regression.csv', 'r')\n",
    "data = []\n",
    "for elem in f:\n",
    "    data.append(float(elem))"
   ]
  },
  {
   "cell_type": "markdown",
   "metadata": {},
   "source": [
    "Из теории знаем оценки методом наименьших квадратов:\n",
    "$$\\hat{\\beta}_1 = X_0 = \\beta_1 + \\varepsilon_0$$ \n",
    "$$\\hat{\\beta}_2 = \\frac{X_n - X_0}{n} = n\\beta_2 + \\varepsilon_1 + \\dots + \\varepsilon_n $$\n",
    "$$\\hat{\\sigma}^2 = \\frac{1}{n - 1} \\sum\\limits_{i=1}^{n}{\\left( X_i - X_{i-1} - \\frac{X_n - X_0}{n}\\right)^2}$$"
   ]
  },
  {
   "cell_type": "code",
   "execution_count": 58,
   "metadata": {
    "collapsed": false
   },
   "outputs": [
    {
     "name": "stdout",
     "output_type": "stream",
     "text": [
      "beta1 = 83.7221\n",
      "beta2 = 9.9680155\n",
      "sigma^2 = 0.0\n"
     ]
    }
   ],
   "source": [
    "#Посчитаем эти оценки для нашего набора\n",
    "beta1 = data[0]\n",
    "beta2 = (data[len(data) - 1] - data[0]) / len(data)\n",
    "sigma = 1 / (len(data) - 1) * \\\n",
    "    np.array(np.array([data[i] - data[i - 1] - beta2 for i in range(1, len(data))]) ** 2).sum()\n",
    "print('beta1 = ' + str(beta1))\n",
    "print('beta2 = ' + str(beta2))\n",
    "print('sigma^2 = ' + str(sigma))"
   ]
  }
 ],
 "metadata": {
  "kernelspec": {
   "display_name": "Python 2",
   "language": "python",
   "name": "python2"
  },
  "language_info": {
   "codemirror_mode": {
    "name": "ipython",
    "version": 2
   },
   "file_extension": ".py",
   "mimetype": "text/x-python",
   "name": "python",
   "nbconvert_exporter": "python",
   "pygments_lexer": "ipython2",
   "version": "2.7.13"
  }
 },
 "nbformat": 4,
 "nbformat_minor": 0
}
