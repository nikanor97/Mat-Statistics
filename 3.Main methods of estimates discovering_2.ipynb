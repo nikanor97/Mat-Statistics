{
 "cells": [
  {
   "cell_type": "code",
   "execution_count": 194,
   "metadata": {
    "collapsed": true
   },
   "outputs": [],
   "source": [
    "import pandas as pd\n",
    "import numpy as np\n",
    "import matplotlib.pyplot as plt\n",
    "import scipy\n",
    "import scipy.stats as sts\n",
    "import math\n",
    "import statsmodels\n",
    "from statsmodels.distributions.empirical_distribution import ECDF\n",
    "%matplotlib inline"
   ]
  },
  {
   "cell_type": "code",
   "execution_count": 195,
   "metadata": {
    "collapsed": false
   },
   "outputs": [],
   "source": [
    "with open ('Cauchy.csv', 'r') as file_obj: #читаем данные из файла\n",
    "    data = file_obj.readlines()"
   ]
  },
  {
   "cell_type": "code",
   "execution_count": 196,
   "metadata": {
    "collapsed": false
   },
   "outputs": [],
   "source": [
    "X = np.empty((1000))\n",
    "for i in range(1, 1001):\n",
    "    X[i - 1] = float(data[i - 1]) #превращаем текстовые данные из файлика "
   ]
  },
  {
   "cell_type": "code",
   "execution_count": 203,
   "metadata": {
    "collapsed": false
   },
   "outputs": [],
   "source": [
    "x0 = np.arange(-1000, 1000.1, 0.01)\n",
    "f = np.empty((200000))\n",
    "for a in range(1, 200001):\n",
    "    for i in range(1, 501):\n",
    "        f[a - 1] += math.log(1. / (math.pi * (1 + (X[i - 1] - x0[a - 1])**2)))#оцениваем параметр\n",
    "maxf = max(f) #максимальное значение функции правдоподобия"
   ]
  },
  {
   "cell_type": "code",
   "execution_count": 188,
   "metadata": {
    "collapsed": false
   },
   "outputs": [
    {
     "name": "stdout",
     "output_type": "stream",
     "text": [
      "N = 500\n",
      "Номер \"лучшего\" x0 в массиве:  127305 \n",
      "Значение \"лучшего\" x0 в массиве:  273.049999999\n"
     ]
    }
   ],
   "source": [
    "for i in range(1, 200001):\n",
    "    if (f[i - 1] == maxf):\n",
    "        print (u'N = 500\\nНомер \"лучшего\" x0 в массиве: '), i - 1, (u'\\nЗначение \"лучшего\" x0 в массиве: '), x0[i - 1]"
   ]
  },
  {
   "cell_type": "code",
   "execution_count": 189,
   "metadata": {
    "collapsed": false
   },
   "outputs": [],
   "source": [
    "x0 = np.arange(-1000, 1000.1, 0.01)\n",
    "f = np.empty((200000))\n",
    "for a in range(1, 200001):\n",
    "    for i in range(1, 1001):\n",
    "        f[a - 1] += math.log(1. / (math.pi * (1 + (X[i - 1] - x0[a - 1])**2)))#оцениваем параметр\n",
    "maxf = max(f) #максимальное значение функции правдоподобия"
   ]
  },
  {
   "cell_type": "code",
   "execution_count": 191,
   "metadata": {
    "collapsed": false
   },
   "outputs": [
    {
     "name": "stdout",
     "output_type": "stream",
     "text": [
      "N = 1000\n",
      "Номер \"лучшего\" x0 в массиве:  127308 \n",
      "Значение \"лучшего\" x0 в массиве:  273.079999999\n"
     ]
    }
   ],
   "source": [
    "for i in range(1, 200001):\n",
    "    if (f[i - 1] == maxf):\n",
    "        print (u'N = 1000\\nНомер \"лучшего\" x0 в массиве: '), i - 1, (u'\\nЗначение \"лучшего\" x0 в массиве: '), x0[i - 1]"
   ]
  }
 ],
 "metadata": {
  "kernelspec": {
   "display_name": "Python 2",
   "language": "python",
   "name": "python2"
  },
  "language_info": {
   "codemirror_mode": {
    "name": "ipython",
    "version": 2
   },
   "file_extension": ".py",
   "mimetype": "text/x-python",
   "name": "python",
   "nbconvert_exporter": "python",
   "pygments_lexer": "ipython2",
   "version": "2.7.13"
  }
 },
 "nbformat": 4,
 "nbformat_minor": 2
}
