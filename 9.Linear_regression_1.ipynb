{
 "cells": [
  {
   "cell_type": "code",
   "execution_count": 127,
   "metadata": {
    "collapsed": true
   },
   "outputs": [],
   "source": [
    "import matplotlib.pyplot as plt\n",
    "import math\n",
    "import scipy.stats as sps\n",
    "from numpy.linalg import inv\n",
    "import csv\n",
    "import numpy as np\n",
    "import sys\n",
    "%matplotlib inline"
   ]
  },
  {
   "cell_type": "code",
   "execution_count": 128,
   "metadata": {
    "collapsed": false
   },
   "outputs": [
    {
     "name": "stdout",
     "output_type": "stream",
     "text": [
      "['X', 'Y', 'month', 'day', 'FFMC', 'DMC', 'DC', 'ISI', 'temp', 'RH', 'wind', 'rain', 'area']\n"
     ]
    }
   ],
   "source": [
    "#Преобразование данных\n",
    "data = []\n",
    "with open('forestfires.csv', \"rt\") as fires:\n",
    "    reader = csv.reader(fires)\n",
    "    data = list(reader)\n",
    "print(data[0])\n",
    "for elem in data[1:]:\n",
    "    if elem[2] in ['jun', 'jul', 'aug']:\n",
    "        elem[2] = 1\n",
    "    else:\n",
    "        elem[2] = 0\n",
    "    elem[3] = 1\n",
    "data = [[float(x) for x in elem] for elem in data[1:]]\n",
    "np.random.shuffle(data)"
   ]
  },
  {
   "cell_type": "code",
   "execution_count": 129,
   "metadata": {
    "collapsed": false
   },
   "outputs": [],
   "source": [
    "#Для набора и функции для площади пожара сделаем проверку оценки методом линейной регрессии.\n",
    "def my_estim(dat, func, i_func):     \n",
    "    sample = dat[:(len(dat) * 7 // 10)]\n",
    "    new_data = dat[(len(dat) * 7 // 10):]\n",
    "    square = np.matrix([func(elem[-1]) for elem in sample]).transpose()\n",
    "    factors = np.matrix([[elem[i] for i in range(len(elem) - 1)] for elem in sample])\n",
    "    \n",
    "    coeff = inv(factors.transpose() * factors) * factors.transpose() * square      \n",
    "    \n",
    "    new_square = np.matrix([func(elem[-1]) for elem in new_data]).transpose()\n",
    "    new_factors = np.matrix([[elem[i] \n",
    "                        for i in range(len(elem) - 1)] \n",
    "                             for elem in new_data])\n",
    "    estimate_square = new_factors * coeff\n",
    "    \n",
    "    diff = np.mean(np.array((estimate_square - new_square).transpose())[0] ** 2)\n",
    "    inv_diff = np.mean(\n",
    "        np.array((i_func(estimate_square) - i_func(new_square)).transpose())[0] ** 2)\n",
    "    return (diff, inv_diff)"
   ]
  },
  {
   "cell_type": "code",
   "execution_count": 130,
   "metadata": {
    "collapsed": false
   },
   "outputs": [
    {
     "name": "stdout",
     "output_type": "stream",
     "text": [
      "(801.33584381522053, 801.33584381522053)\n"
     ]
    }
   ],
   "source": [
    "print(my_estim(data, (lambda x: x), (lambda x: x)))"
   ]
  },
  {
   "cell_type": "code",
   "execution_count": 131,
   "metadata": {
    "collapsed": false
   },
   "outputs": [
    {
     "name": "stdout",
     "output_type": "stream",
     "text": [
      "(1.9171196025713892, 802.3269768928177)\n",
      "(0.37987651130117028, 762.25951900774942)\n",
      "(0.028602313200715691, 723.13756415994055)\n",
      "(0.00065345852766408765, 748.06952222912753)\n"
     ]
    }
   ],
   "source": [
    "print(my_estim(data, (lambda x: np.log(x + 1)), (lambda x: np.exp(x) - 1)))\n",
    "print(my_estim(data, (lambda x: np.log(x + 10)), (lambda x: np.exp(x) - 10)))\n",
    "print(my_estim(data, (lambda x: np.log(x + 100)), (lambda x: np.exp(x) - 100)))\n",
    "print(my_estim(data, (lambda x: np.log(x + 1000)), \n",
    "                    (lambda x: np.exp(x) - 1000)))"
   ]
  },
  {
   "cell_type": "code",
   "execution_count": 132,
   "metadata": {
    "collapsed": false
   },
   "outputs": [
    {
     "name": "stdout",
     "output_type": "stream",
     "text": [
      "(99, 723.22258730536976)\n"
     ]
    }
   ],
   "source": [
    "#Попробуем найти c, при котором применение f(x) = ln(x+c) даёт наилучшую оценку\n",
    "result_c = 1\n",
    "curr_min = 100000\n",
    "for c in range(1,100):\n",
    "    if my_estim(data, (lambda x: np.log(x + c)), \n",
    "                     (lambda x: np.exp(x) - c))[1] < curr_min:\n",
    "        curr_min = my_estim(data, (lambda x: np.log(x + c)), \n",
    "                                 (lambda x: np.exp(x) - c))[1]\n",
    "        result_c = c\n",
    "print(result_c, curr_min)"
   ]
  },
  {
   "cell_type": "markdown",
   "metadata": {},
   "source": [
    "Видно, что, даже в лучшем случае функция логарифма даёт очень большое отклонение, порядка 700."
   ]
  },
  {
   "cell_type": "markdown",
   "metadata": {},
   "source": [
    "Посмотрим отклонения для разных разбиений:"
   ]
  },
  {
   "cell_type": "code",
   "execution_count": 133,
   "metadata": {
    "collapsed": false
   },
   "outputs": [
    {
     "name": "stdout",
     "output_type": "stream",
     "text": [
      "(0.19785471792486151, 11979.160793731649)\n",
      "(0.16466325545675323, 8504.9087736048441)\n",
      "(0.080319496594456363, 828.76985156018293)\n",
      "(0.12132967211145573, 7935.1039602110095)\n",
      "(0.10972567810914056, 3720.152603184838)\n",
      "(0.086697049317885563, 686.26641996780495)\n",
      "(0.10933873432690287, 1105.434771989708)\n",
      "(0.068484857094804716, 422.34504511756717)\n",
      "(0.12686224058335896, 7928.3786219495769)\n",
      "(0.089630227210422728, 705.92881799641373)\n",
      "(0.15367251724823153, 8382.5759592946779)\n",
      "(0.13708699041904629, 4274.0749280252057)\n",
      "(0.096314485754443332, 913.75558730316823)\n",
      "(0.096844037799529742, 809.0047517172037)\n",
      "(0.087594058500510677, 697.35662399448142)\n"
     ]
    }
   ],
   "source": [
    "C = 43\n",
    "for i in range(15):\n",
    "    np.random.shuffle(data)\n",
    "    print(my_estim(data, (lambda x: np.log(x + C)), \n",
    "                        (lambda x: np.exp(x) - C)))"
   ]
  },
  {
   "cell_type": "markdown",
   "metadata": {},
   "source": [
    "Видно, что наше изначальное разбиение можно даже назвать вполне удачным, т.к. при других отклонение может вырастать в разы."
   ]
  },
  {
   "cell_type": "markdown",
   "metadata": {},
   "source": [
    "Можно сделать вывод, что в данном наборе наш метод оценки неэффективен."
   ]
  }
 ],
 "metadata": {
  "kernelspec": {
   "display_name": "Python 2",
   "language": "python",
   "name": "python2"
  },
  "language_info": {
   "codemirror_mode": {
    "name": "ipython",
    "version": 2
   },
   "file_extension": ".py",
   "mimetype": "text/x-python",
   "name": "python",
   "nbconvert_exporter": "python",
   "pygments_lexer": "ipython2",
   "version": "2.7.13"
  }
 },
 "nbformat": 4,
 "nbformat_minor": 0
}
